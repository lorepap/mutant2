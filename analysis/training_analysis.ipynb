{
 "cells": [
  {
   "cell_type": "code",
   "execution_count": 1,
   "metadata": {},
   "outputs": [],
   "source": [
    "import pandas as pd\n",
    "import yaml\n",
    "import os"
   ]
  },
  {
   "cell_type": "code",
   "execution_count": 3,
   "metadata": {},
   "outputs": [],
   "source": [
    "# Load run\n",
    "root_dir = \"/home/lorenzo/Desktop/mutant\"\n",
    "path_to_log = os.path.join(root_dir, \"log/mab/run/run.2024.02.14.14.09.33.csv\")\n",
    "df = pd.read_csv(path_to_log)"
   ]
  },
  {
   "cell_type": "code",
   "execution_count": 4,
   "metadata": {},
   "outputs": [
    {
     "data": {
      "text/plain": [
       "Index(['epoch', 'step', 'srtt', 'rtt_dev', 'lost', 'in_flight',\n",
       "       'delivery_rate', 'prev_proto_id', 'thruput', 'loss_rate', 'srtt_s_avg',\n",
       "       'srtt_s_min', 'srtt_s_max', 'srtt_m_avg', 'srtt_m_min', 'srtt_m_max',\n",
       "       'srtt_l_avg', 'srtt_l_min', 'srtt_l_max', 'rtt_dev_s_avg',\n",
       "       'rtt_dev_s_min', 'rtt_dev_s_max', 'rtt_dev_m_avg', 'rtt_dev_m_min',\n",
       "       'rtt_dev_m_max', 'rtt_dev_l_avg', 'rtt_dev_l_min', 'rtt_dev_l_max',\n",
       "       'lost_s_avg', 'lost_s_min', 'lost_s_max', 'lost_m_avg', 'lost_m_min',\n",
       "       'lost_m_max', 'lost_l_avg', 'lost_l_min', 'lost_l_max',\n",
       "       'in_flight_s_avg', 'in_flight_s_min', 'in_flight_s_max',\n",
       "       'in_flight_m_avg', 'in_flight_m_min', 'in_flight_m_max',\n",
       "       'in_flight_l_avg', 'in_flight_l_min', 'in_flight_l_max',\n",
       "       'thruput_s_avg', 'thruput_s_min', 'thruput_s_max', 'thruput_m_avg',\n",
       "       'thruput_m_min', 'thruput_m_max', 'thruput_l_avg', 'thruput_l_min',\n",
       "       'thruput_l_max', 'reward'],\n",
       "      dtype='object')"
      ]
     },
     "execution_count": 4,
     "metadata": {},
     "output_type": "execute_result"
    }
   ],
   "source": [
    "df.columns"
   ]
  },
  {
   "cell_type": "code",
   "execution_count": 5,
   "metadata": {},
   "outputs": [],
   "source": [
    "df['current_proto_id'] = df['prev_proto_id'].shift(-1)"
   ]
  },
  {
   "cell_type": "code",
   "execution_count": 6,
   "metadata": {},
   "outputs": [
    {
     "name": "stdout",
     "output_type": "stream",
     "text": [
      "<class 'pandas.core.frame.DataFrame'>\n",
      "Int64Index: 1337295 entries, 0 to 1337294\n",
      "Data columns (total 57 columns):\n",
      " #   Column            Non-Null Count    Dtype  \n",
      "---  ------            --------------    -----  \n",
      " 0   epoch             1337295 non-null  int64  \n",
      " 1   step              1337295 non-null  int64  \n",
      " 2   srtt              1337295 non-null  float64\n",
      " 3   rtt_dev           1337295 non-null  float64\n",
      " 4   lost              1337295 non-null  int64  \n",
      " 5   in_flight         1337295 non-null  int64  \n",
      " 6   delivery_rate     1337295 non-null  float64\n",
      " 7   prev_proto_id     1337295 non-null  int64  \n",
      " 8   thruput           1337295 non-null  float64\n",
      " 9   loss_rate         1337295 non-null  float64\n",
      " 10  srtt_s_avg        1337295 non-null  float64\n",
      " 11  srtt_s_min        1337295 non-null  float64\n",
      " 12  srtt_s_max        1337295 non-null  float64\n",
      " 13  srtt_m_avg        1337295 non-null  float64\n",
      " 14  srtt_m_min        1337295 non-null  float64\n",
      " 15  srtt_m_max        1337295 non-null  float64\n",
      " 16  srtt_l_avg        1337295 non-null  float64\n",
      " 17  srtt_l_min        1337295 non-null  float64\n",
      " 18  srtt_l_max        1337295 non-null  float64\n",
      " 19  rtt_dev_s_avg     1337295 non-null  float64\n",
      " 20  rtt_dev_s_min     1337295 non-null  float64\n",
      " 21  rtt_dev_s_max     1337295 non-null  float64\n",
      " 22  rtt_dev_m_avg     1337295 non-null  float64\n",
      " 23  rtt_dev_m_min     1337295 non-null  float64\n",
      " 24  rtt_dev_m_max     1337295 non-null  float64\n",
      " 25  rtt_dev_l_avg     1337295 non-null  float64\n",
      " 26  rtt_dev_l_min     1337295 non-null  float64\n",
      " 27  rtt_dev_l_max     1337295 non-null  float64\n",
      " 28  lost_s_avg        1337295 non-null  float64\n",
      " 29  lost_s_min        1337295 non-null  float64\n",
      " 30  lost_s_max        1337295 non-null  float64\n",
      " 31  lost_m_avg        1337295 non-null  float64\n",
      " 32  lost_m_min        1337295 non-null  float64\n",
      " 33  lost_m_max        1337295 non-null  float64\n",
      " 34  lost_l_avg        1337295 non-null  float64\n",
      " 35  lost_l_min        1337295 non-null  float64\n",
      " 36  lost_l_max        1337295 non-null  float64\n",
      " 37  in_flight_s_avg   1337295 non-null  float64\n",
      " 38  in_flight_s_min   1337295 non-null  float64\n",
      " 39  in_flight_s_max   1337295 non-null  float64\n",
      " 40  in_flight_m_avg   1337295 non-null  float64\n",
      " 41  in_flight_m_min   1337295 non-null  float64\n",
      " 42  in_flight_m_max   1337295 non-null  float64\n",
      " 43  in_flight_l_avg   1337295 non-null  float64\n",
      " 44  in_flight_l_min   1337295 non-null  float64\n",
      " 45  in_flight_l_max   1337295 non-null  float64\n",
      " 46  thruput_s_avg     1337295 non-null  float64\n",
      " 47  thruput_s_min     1337295 non-null  float64\n",
      " 48  thruput_s_max     1337295 non-null  float64\n",
      " 49  thruput_m_avg     1337295 non-null  float64\n",
      " 50  thruput_m_min     1337295 non-null  float64\n",
      " 51  thruput_m_max     1337295 non-null  float64\n",
      " 52  thruput_l_avg     1337295 non-null  float64\n",
      " 53  thruput_l_min     1337295 non-null  float64\n",
      " 54  thruput_l_max     1337295 non-null  float64\n",
      " 55  reward            1337295 non-null  float64\n",
      " 56  current_proto_id  1337295 non-null  int64  \n",
      "dtypes: float64(51), int64(6)\n",
      "memory usage: 591.8 MB\n"
     ]
    }
   ],
   "source": [
    "# Convert the following keys into integer values time series\n",
    "for key in ['prev_proto_id', 'current_proto_id', 'lost', 'in_flight']:\n",
    "    # Remove the nan samples\n",
    "    df = df[df[key].notna()]\n",
    "    df[key] = df[key].astype(int)\n",
    "df.info()"
   ]
  },
  {
   "cell_type": "code",
   "execution_count": 8,
   "metadata": {},
   "outputs": [
    {
     "data": {
      "text/plain": [
       "5    693667\n",
       "2    642638\n",
       "8       896\n",
       "3        85\n",
       "4         9\n",
       "Name: current_proto_id, dtype: int64"
      ]
     },
     "execution_count": 8,
     "metadata": {},
     "output_type": "execute_result"
    }
   ],
   "source": [
    "df['current_proto_id'].value_counts()"
   ]
  },
  {
   "cell_type": "code",
   "execution_count": null,
   "metadata": {},
   "outputs": [],
   "source": []
  }
 ],
 "metadata": {
  "kernelspec": {
   "display_name": ".env",
   "language": "python",
   "name": "python3"
  },
  "language_info": {
   "codemirror_mode": {
    "name": "ipython",
    "version": 3
   },
   "file_extension": ".py",
   "mimetype": "text/x-python",
   "name": "python",
   "nbconvert_exporter": "python",
   "pygments_lexer": "ipython3",
   "version": "3.8.10"
  }
 },
 "nbformat": 4,
 "nbformat_minor": 2
}
